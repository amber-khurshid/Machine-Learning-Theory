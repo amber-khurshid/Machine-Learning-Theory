{
  "nbformat": 4,
  "nbformat_minor": 0,
  "metadata": {
    "colab": {
      "provenance": []
    },
    "kernelspec": {
      "name": "python3",
      "display_name": "Python 3"
    },
    "language_info": {
      "name": "python"
    }
  },
  "cells": [
    {
      "cell_type": "code",
      "source": [
        "# code\n",
        "# Importing Libraries\n",
        "from sklearn.preprocessing import KBinsDiscretizer\n",
        "import numpy as np\n",
        "import pandas as pd\n",
        "\n",
        "# Creating a mock data\n",
        "data = {'num': [6.67, 9.33, 4, 12, 9,5.9,6.66]}\n",
        "df = pd.DataFrame(data)\n",
        "\n",
        "\n",
        "\n"
      ],
      "metadata": {
        "id": "HK-FCah29aze"
      },
      "execution_count": null,
      "outputs": []
    },
    {
      "cell_type": "code",
      "source": [
        "# Initializing and setting the parameters n_bins to 3, encode to ordinal and strategy to uniform\n",
        "discretizerU = KBinsDiscretizer(n_bins=3, encode='ordinal', strategy='uniform')\n",
        "\n",
        "# Fitting and transforming the data into n_bins number of bins\n",
        "binned_dataU = discretizerU.fit_transform(df)\n",
        "\n",
        "# Printing binned data to check the change\n",
        "print(binned_dataU)\n",
        "\n"
      ],
      "metadata": {
        "colab": {
          "base_uri": "https://localhost:8080/"
        },
        "id": "F6tgpHLO5OMH",
        "outputId": "609aa72c-4bb5-4fb9-cc69-7d79a76d3263"
      },
      "execution_count": null,
      "outputs": [
        {
          "output_type": "stream",
          "name": "stdout",
          "text": [
            "[[1.]\n",
            " [1.]\n",
            " [0.]\n",
            " [2.]\n",
            " [1.]\n",
            " [0.]\n",
            " [0.]]\n"
          ]
        }
      ]
    },
    {
      "cell_type": "code",
      "source": [
        "discretizerU.transform([[-1000]])"
      ],
      "metadata": {
        "colab": {
          "base_uri": "https://localhost:8080/"
        },
        "id": "jm5seBMt7Se6",
        "outputId": "8f9d500f-71c7-4fac-cbe7-007bc1f3d65d"
      },
      "execution_count": null,
      "outputs": [
        {
          "output_type": "stream",
          "name": "stderr",
          "text": [
            "/usr/local/lib/python3.10/dist-packages/sklearn/base.py:493: UserWarning: X does not have valid feature names, but KBinsDiscretizer was fitted with feature names\n",
            "  warnings.warn(\n"
          ]
        },
        {
          "output_type": "execute_result",
          "data": {
            "text/plain": [
              "array([[0.]])"
            ]
          },
          "metadata": {},
          "execution_count": 5
        }
      ]
    }
  ]
}
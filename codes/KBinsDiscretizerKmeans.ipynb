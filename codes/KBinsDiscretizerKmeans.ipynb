{
  "nbformat": 4,
  "nbformat_minor": 0,
  "metadata": {
    "colab": {
      "provenance": []
    },
    "kernelspec": {
      "name": "python3",
      "display_name": "Python 3"
    },
    "language_info": {
      "name": "python"
    }
  },
  "cells": [
    {
      "cell_type": "code",
      "execution_count": null,
      "metadata": {
        "colab": {
          "base_uri": "https://localhost:8080/"
        },
        "id": "cF9EGXBM64SI",
        "outputId": "64cff72a-9dd0-4427-a775-9999516f0205"
      },
      "outputs": [
        {
          "output_type": "stream",
          "name": "stdout",
          "text": [
            "[[0.]\n",
            " [1.]\n",
            " [0.]\n",
            " [2.]\n",
            " [1.]\n",
            " [0.]\n",
            " [0.]]\n",
            "[[1.]]\n"
          ]
        },
        {
          "output_type": "stream",
          "name": "stderr",
          "text": [
            "/usr/local/lib/python3.10/dist-packages/sklearn/base.py:493: UserWarning: X does not have valid feature names, but KBinsDiscretizer was fitted with feature names\n",
            "  warnings.warn(\n"
          ]
        }
      ],
      "source": [
        "# code\n",
        "# Importing Libraries\n",
        "from sklearn.preprocessing import KBinsDiscretizer\n",
        "import numpy as np\n",
        "import pandas as pd\n",
        "\n",
        "# Creating a mock data\n",
        "data = {'num': [6.67, 9.33, 4, 12, 9,5.9,6.66]}\n",
        "df = pd.DataFrame(data)\n",
        "# Initializing and setting the parameters n_bins to 3, encode to ordinal and strategy to quantile\n",
        "discretizerK = KBinsDiscretizer(n_bins=3, encode='ordinal', strategy='kmeans')\n",
        "# Fitting and transforming the data into n_bins number of bins\n",
        "binned_dataK = discretizerK.fit_transform(df)\n",
        "# Printing binned data to check the change\n",
        "print(binned_dataK )\n",
        "print(discretizerK.transform([[9.1]]))"
      ]
    }
  ]
}
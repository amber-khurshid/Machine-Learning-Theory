{
  "nbformat": 4,
  "nbformat_minor": 0,
  "metadata": {
    "colab": {
      "provenance": []
    },
    "kernelspec": {
      "name": "python3",
      "display_name": "Python 3"
    },
    "language_info": {
      "name": "python"
    }
  },
  "cells": [
    {
      "cell_type": "code",
      "execution_count": null,
      "metadata": {
        "colab": {
          "base_uri": "https://localhost:8080/"
        },
        "id": "d_ZIEXmS6fjb",
        "outputId": "b55e1a5a-deca-4185-c888-034972dbe819"
      },
      "outputs": [
        {
          "output_type": "stream",
          "name": "stdout",
          "text": [
            "num    6.6448\n",
            "Name: 0.33, dtype: float64\n",
            "num    8.9068\n",
            "Name: 0.66, dtype: float64\n",
            "[[1.]\n",
            " [2.]\n",
            " [0.]\n",
            " [2.]\n",
            " [2.]\n",
            " [0.]\n",
            " [1.]]\n",
            "[[2.]]\n"
          ]
        },
        {
          "output_type": "stream",
          "name": "stderr",
          "text": [
            "/usr/local/lib/python3.10/dist-packages/sklearn/base.py:493: UserWarning: X does not have valid feature names, but KBinsDiscretizer was fitted with feature names\n",
            "  warnings.warn(\n"
          ]
        }
      ],
      "source": [
        "# code\n",
        "# Importing Libraries\n",
        "from sklearn.preprocessing import KBinsDiscretizer\n",
        "import numpy as np\n",
        "import pandas as pd\n",
        "# Creating a mock data\n",
        "data = {'num': [6.67, 9.33, 4, 12, 9,5.9,6.66]}\n",
        "df = pd.DataFrame(data)\n",
        "# Initializing and setting the parameters n_bins to 3, encode to ordinal and strategy to quantile\n",
        "discretizerQ = KBinsDiscretizer(n_bins=3, encode='ordinal', strategy='quantile')\n",
        "# Fitting and transforming the data into n_bins number of bins\n",
        "binned_dataQ = discretizerQ.fit_transform(df)\n",
        "# Printing binned data to check the change\n",
        "print(df.quantile(0.33))\n",
        "print(df.quantile(0.66))\n",
        "print(binned_dataQ)\n",
        "print(discretizerQ.transform([[12]]))"
      ]
    }
  ]
}